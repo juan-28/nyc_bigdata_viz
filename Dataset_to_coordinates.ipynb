{
 "cells": [
  {
   "cell_type": "code",
   "execution_count": null,
   "id": "9d26dd84-92c2-4bb4-804d-b0014c02745d",
   "metadata": {},
   "outputs": [],
   "source": [
    "from pyspark.sql import SparkSession, functions as F\n",
    "from pyspark.sql.window import Window\n",
    "from pyspark.sql.types import TimestampType\n",
    "\n",
    "spark = SparkSession.builder.appName(\"EDAtaxi\").getOrCreate()\n"
   ]
  },
  {
   "cell_type": "code",
   "execution_count": null,
   "id": "428df937-9865-4b67-afc4-e7b308c2130a",
   "metadata": {},
   "outputs": [],
   "source": [
    "data = spark.read.parquet(\"s3a://psbigdata777/project/\")"
   ]
  },
  {
   "cell_type": "code",
   "execution_count": null,
   "id": "915e186e-eaf8-46d0-abe0-43b567ea5786",
   "metadata": {},
   "outputs": [],
   "source": [
    "df = data.filter((df.trip_distance >= 10) & (df.trip_time_in_secs != 0))\n",
    "\n",
    "df = df.withColumn(\"trip_duration\", \n",
    "                   (F.unix_timestamp(\"dropoff_datetime\") - F.unix_timestamp(\"pickup_datetime\"))/60)\n",
    "\n",
    "df = df.withColumn(\"profit_ratio\", df[\"surcharge\"] / df[\"trip_distance\"])\n",
    "\n",
    "df.cache()"
   ]
  },
  {
   "cell_type": "markdown",
   "id": "a388cbc2-832a-40f7-9d4c-ee0d8fba9298",
   "metadata": {},
   "source": [
    "Aggregates for visualization"
   ]
  },
  {
   "cell_type": "code",
   "execution_count": null,
   "id": "442a2d9c-393d-48f3-9295-2ec9cf32d0ef",
   "metadata": {},
   "outputs": [],
   "source": [
    "from pyspark.sql.functions import when\n",
    "\n",
    "monthly_aggregates = (df.groupBy(\"pickup_month\").agg(\n",
    "    F.count(\"*\").alias(\"total_rides\"),\n",
    "    F.avg(\"fare_amount\").alias(\"avg_fare\"),\n",
    "    F.avg(\"tip_amount\").alias(\"avg_tip\"),\n",
    "    F.avg(\"trip_duration\").alias(\"avg_trip_duration\"),\n",
    "    F.avg(\"trip_distance\").alias(\"avg_trip_distance\"),\n",
    "    F.avg(\"total_amount\").alias(\"avg_total_amount\"),\n",
    "    F.avg(\"profit_ratio\").alias(\"avg_monthly_profit_ratio\"),\n",
    "    F.avg(\"tolls_amount\").alias(\"avg_monthly_toll_amount\"),\n",
    "    F.sum(when(F.col(\"payment_type\") == \"CSH\", 1).otherwise(0)).alias(\"cash_payments\"),\n",
    "    F.sum(when(F.col(\"payment_type\") == \"CRD\", 1).otherwise(0)).alias(\"card_payments\")\n",
    ")\n",
    ".withColumn(\"cash_percentage\", F.col(\"cash_payments\") / F.col(\"total_rides\") * 100)\n",
    ".withColumn(\"card_percentage\", F.col(\"card_payments\") / F.col(\"total_rides\") * 100)\n",
    ".orderBy(\"pickup_month\"))"
   ]
  },
  {
   "cell_type": "code",
   "execution_count": null,
   "id": "a571c858-6098-42a5-9f58-18fbb8bcece7",
   "metadata": {},
   "outputs": [],
   "source": [
    "daily_aggregates = (df.groupBy(\"pickup_day\").agg(\n",
    "    F.count(\"*\").alias(\"daily_rides\"),\n",
    "    F.avg(\"fare_amount\").alias(\"daily_avg_fare\"),\n",
    "    F.avg(\"tip_amount\").alias(\"daily_avg_tip\"),\n",
    "    F.avg(\"trip_duration\").alias(\"daily_trip_duration\"),\n",
    "    F.avg(\"trip_distance\").alias(\"daily_trip_distance\"),\n",
    "    F.avg(\"total_amount\").alias(\"daily_avg_total_amount\"),\n",
    "    F.avg(\"profit_ratio\").alias(\"avg_daily_profit_ratio\"),\n",
    "    F.avg(\"tolls_amount\").alias(\"avg_daily_toll_amount\"),\n",
    "    F.sum(when(F.col(\"payment_type\") == \"CSH\", 1).otherwise(0)).alias(\"cash_payments\"),\n",
    "    F.sum(when(F.col(\"payment_type\") == \"CRD\", 1).otherwise(0)).alias(\"card_payments\")\n",
    ")\n",
    ".withColumn(\"cash_percentage\", F.col(\"cash_payments\") / F.col(\"daily_rides\") * 100)\n",
    ".withColumn(\"card_percentage\", F.col(\"card_payments\") / F.col(\"daily_rides\") * 100)\n",
    ".orderBy(\"pickup_day\"))"
   ]
  },
  {
   "cell_type": "code",
   "execution_count": null,
   "id": "7b127385-0028-4906-aaab-5d5674846259",
   "metadata": {},
   "outputs": [],
   "source": [
    "hourly_aggregates = (df.groupBy(\"pickup_hour\").agg(\n",
    "    F.count(\"*\").alias(\"hourly_rides\"),\n",
    "    F.avg(\"fare_amount\").alias(\"hourly_avg_fare\"),\n",
    "    F.avg(\"tip_amount\").alias(\"hourly_avg_tip\"),\n",
    "    F.avg(\"trip_duration\").alias(\"hourly_trip_duration\"),\n",
    "    F.avg(\"trip_distance\").alias(\"hourly_trip_distance\"),\n",
    "    F.avg(\"total_amount\").alias(\"hourly_avg_total_amount\"),\n",
    "    F.avg(\"profit_ratio\").alias(\"avg_hourly_profit_ratio\"),\n",
    "    F.avg(\"tolls_amount\").alias(\"avg_hourly_toll_amount\"),\n",
    "    F.sum(when(F.col(\"payment_type\") == \"CSH\", 1).otherwise(0)).alias(\"cash_payments\"),\n",
    "    F.sum(when(F.col(\"payment_type\") == \"CRD\", 1).otherwise(0)).alias(\"card_payments\")\n",
    ")\n",
    ".withColumn(\"cash_percentage\", F.col(\"cash_payments\") / F.col(\"hourly_rides\") * 100)\n",
    ".withColumn(\"card_percentage\", F.col(\"card_payments\") / F.col(\"hourly_rides\") * 100)\n",
    ".orderBy(\"pickup_hour\"))"
   ]
  },
  {
   "cell_type": "markdown",
   "id": "ed547f4d-fd36-44d7-9fa1-408fc4d1b66a",
   "metadata": {},
   "source": [
    "Saving the data as parquet"
   ]
  },
  {
   "cell_type": "code",
   "execution_count": null,
   "id": "75f5837f-0e01-4993-96fc-37e8ad206197",
   "metadata": {},
   "outputs": [],
   "source": [
    "monthly_aggregates.write.mode('overwrite').parquet(\"s3://psbigdata777/CS777 Term Project/Monthly Data/monthly_agg.parquet\")"
   ]
  },
  {
   "cell_type": "code",
   "execution_count": null,
   "id": "98f73457-654a-4a1e-9370-9a8ff0cc5544",
   "metadata": {},
   "outputs": [],
   "source": [
    "daily_aggregates.write.mode('overwrite').parquet(\"s3://psbigdata777/CS777 Term Project/Daily Data/daily_agg.parquet\")"
   ]
  },
  {
   "cell_type": "code",
   "execution_count": null,
   "id": "2badb18f-52d7-47c3-9100-19679390796c",
   "metadata": {},
   "outputs": [],
   "source": [
    "hourly_aggregates.write.mode('overwrite').parquet(\"s3://psbigdata777/CS777 Term Project/Hourly Data/hourly_agg.parquet\")"
   ]
  },
  {
   "cell_type": "markdown",
   "id": "7b1bebed-6216-4d9d-a616-243641acc16f",
   "metadata": {},
   "source": [
    "Geospatial Visualization Data\n"
   ]
  },
  {
   "cell_type": "code",
   "execution_count": null,
   "id": "c44e3095-ce39-4856-b479-9db2d4090318",
   "metadata": {},
   "outputs": [],
   "source": [
    "sample_df = df.sample(False, 0.001)"
   ]
  },
  {
   "cell_type": "code",
   "execution_count": null,
   "id": "0d487fb9-dd3e-4bb8-b9d4-80aba8479d31",
   "metadata": {},
   "outputs": [],
   "source": [
    "columns_to_select = [\"pickup_latitude\", \"pickup_longitude\", \"dropoff_latitude\", \"dropoff_longitude\"]\n",
    "sample_df = sample_df.select(*columns_to_select)\n"
   ]
  },
  {
   "cell_type": "code",
   "execution_count": null,
   "id": "54c2773d-20f0-4919-ac05-8248def45a06",
   "metadata": {},
   "outputs": [],
   "source": [
    "sample_df.write.parquet(\"s3://psbigdata777/CS777 Term Project/Coordinate Data/coordinate.parquet\")\n"
   ]
  }
 ],
 "metadata": {
  "kernelspec": {
   "display_name": "metcs777_test",
   "language": "python",
   "name": "metcs777_test"
  },
  "language_info": {
   "codemirror_mode": {
    "name": "ipython",
    "version": 3
   },
   "file_extension": ".py",
   "mimetype": "text/x-python",
   "name": "python",
   "nbconvert_exporter": "python",
   "pygments_lexer": "ipython3",
   "version": "3.12.0"
  }
 },
 "nbformat": 4,
 "nbformat_minor": 5
}
